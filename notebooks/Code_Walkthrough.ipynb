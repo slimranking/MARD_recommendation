{
 "cells": [
  {
   "cell_type": "markdown",
   "metadata": {},
   "source": [
    "# Engineering Serendipity in Music Recommendation with NLP"
   ]
  },
  {
   "cell_type": "markdown",
   "metadata": {},
   "source": [
    "Thomas Nuttall - 2019\n",
    "\n",
    "https://gitlab.com/tnutz/mard_recommendations"
   ]
  },
  {
   "cell_type": "markdown",
   "metadata": {},
   "source": [
    "Here we use LDA Topic Modelling to identify k distinct patterns in album reviews. We use these patterns to define our albums as distributions over this higher level abstraction. Distribution similarity is used for recommendation."
   ]
  },
  {
   "cell_type": "code",
   "execution_count": 96,
   "metadata": {},
   "outputs": [
    {
     "name": "stdout",
     "output_type": "stream",
     "text": [
      "The autoreload extension is already loaded. To reload it, use:\n",
      "  %reload_ext autoreload\n"
     ]
    }
   ],
   "source": [
    "%load_ext autoreload\n",
    "\n",
    "%autoreload 2"
   ]
  },
  {
   "cell_type": "code",
   "execution_count": 2,
   "metadata": {},
   "outputs": [],
   "source": [
    "random_state = 42"
   ]
  },
  {
   "cell_type": "code",
   "execution_count": 97,
   "metadata": {},
   "outputs": [],
   "source": [
    "import collections\n",
    "import gensim\n",
    "import multiprocessing\n",
    "import pandas as pd\n",
    "import sys\n",
    "sys.path.append('../code/')\n",
    "\n",
    "import evaluation\n",
    "import feature_extraction\n",
    "import model\n",
    "import persistence\n",
    "import utils\n",
    "\n",
    "logger = utils.get_logger('__main__')"
   ]
  },
  {
   "cell_type": "markdown",
   "metadata": {},
   "source": [
    "### 1. Data Load"
   ]
  },
  {
   "cell_type": "markdown",
   "metadata": {},
   "source": [
    "We load the MARD review dataset - https://www.upf.edu/web/mtg/mard"
   ]
  },
  {
   "cell_type": "code",
   "execution_count": 33,
   "metadata": {},
   "outputs": [],
   "source": [
    "review_path = \"../data/mard_reviews.json\""
   ]
  },
  {
   "cell_type": "code",
   "execution_count": 34,
   "metadata": {},
   "outputs": [],
   "source": [
    "metadata = pd.read_json('../data/mard_metadata.json', lines=True)"
   ]
  },
  {
   "cell_type": "code",
   "execution_count": 113,
   "metadata": {},
   "outputs": [
    {
     "name": "stderr",
     "output_type": "stream",
     "text": [
      "[2019-03-17 15:21:09,764] INFO [__main__.load_data:23] Loading review data from ../data/mard_reviews.json\n",
      "[2019-03-17 15:21:15,725] INFO [__main__.load_data:33] 263525 reviews of 64637 albums by 187090 reviewers\n"
     ]
    }
   ],
   "source": [
    "orig_data = persistence.load_data(review_path)"
   ]
  },
  {
   "cell_type": "markdown",
   "metadata": {},
   "source": [
    "Obtain list of heavily reviewed albums"
   ]
  },
  {
   "cell_type": "code",
   "execution_count": 114,
   "metadata": {},
   "outputs": [],
   "source": [
    "min_reviews = 1\n",
    "heavily_reviewed_ids = [\n",
    "    k for k,v in dict(collections.Counter(orig_data['amazon-id'])).items()\\\n",
    "    if v >= min_reviews\n",
    "]"
   ]
  },
  {
   "cell_type": "markdown",
   "metadata": {},
   "source": [
    "We group all reviews of the same album to one concatenated daddy review"
   ]
  },
  {
   "cell_type": "code",
   "execution_count": 16,
   "metadata": {},
   "outputs": [
    {
     "name": "stderr",
     "output_type": "stream",
     "text": [
      "[2019-03-17 13:51:02,131] INFO [__main__.combine_reviews:14] Combined 263525 reviews to 64637\n"
     ]
    }
   ],
   "source": [
    "data = persistence.combine_reviews(orig_data)"
   ]
  },
  {
   "cell_type": "markdown",
   "metadata": {},
   "source": [
    "### 2. Data Preparation"
   ]
  },
  {
   "cell_type": "code",
   "execution_count": 17,
   "metadata": {},
   "outputs": [],
   "source": [
    "fraction_of_data = 0.5\n",
    "#data_sample = data.sample(n=int(fraction_of_data*len(data)))\n",
    "#data_sample = data[data['amazon-id'].isin(heavily_reviewed_ids)]\n",
    "data_sample = data"
   ]
  },
  {
   "cell_type": "markdown",
   "metadata": {},
   "source": [
    "##### 2.2 Parse Review\n",
    "Here we extract from our review paragraph a list of words used, transformations applied:\n",
    "\n",
    "- Remove apostrophes\n",
    "- Force to lower case\n",
    "- Remove stopwords (see: https://en.wikipedia.org/wiki/Stop_words)\n",
    "- Remove words that are less than 3 characters long\n",
    "- Remove words that don't exist"
   ]
  },
  {
   "cell_type": "code",
   "execution_count": 18,
   "metadata": {},
   "outputs": [
    {
     "name": "stderr",
     "output_type": "stream",
     "text": [
      "[2019-03-17 13:51:02,217] INFO [__main__.parse_reviews:32] Parsing reviews and extracting meaningful words\n",
      "[2019-03-17 13:51:15,570] INFO [__main__.parse_reviews:40] Total number of unique words in corpus 23889\n",
      "Process ForkPoolWorker-11:\n",
      "Process ForkPoolWorker-8:\n",
      "Process ForkPoolWorker-10:\n",
      "Process ForkPoolWorker-7:\n",
      "Process ForkPoolWorker-9:\n",
      "Process ForkPoolWorker-5:\n",
      "Process ForkPoolWorker-12:\n",
      "Process ForkPoolWorker-3:\n",
      "Process ForkPoolWorker-6:\n",
      "Process ForkPoolWorker-2:\n",
      "Process ForkPoolWorker-4:\n",
      "Process ForkPoolWorker-1:\n",
      "Traceback (most recent call last):\n",
      "Traceback (most recent call last):\n",
      "Traceback (most recent call last):\n",
      "Traceback (most recent call last):\n",
      "Traceback (most recent call last):\n",
      "Traceback (most recent call last):\n",
      "Traceback (most recent call last):\n",
      "Traceback (most recent call last):\n",
      "Traceback (most recent call last):\n",
      "Traceback (most recent call last):\n",
      "Traceback (most recent call last):\n",
      "  File \"/Users/tom/.pyenv/versions/3.5.1/lib/python3.5/multiprocessing/process.py\", line 254, in _bootstrap\n",
      "    self.run()\n",
      "Traceback (most recent call last):\n",
      "  File \"/Users/tom/.pyenv/versions/3.5.1/lib/python3.5/multiprocessing/process.py\", line 254, in _bootstrap\n",
      "    self.run()\n",
      "  File \"/Users/tom/.pyenv/versions/3.5.1/lib/python3.5/multiprocessing/process.py\", line 254, in _bootstrap\n",
      "    self.run()\n",
      "  File \"/Users/tom/.pyenv/versions/3.5.1/lib/python3.5/multiprocessing/process.py\", line 254, in _bootstrap\n",
      "    self.run()\n",
      "  File \"/Users/tom/.pyenv/versions/3.5.1/lib/python3.5/multiprocessing/process.py\", line 254, in _bootstrap\n",
      "    self.run()\n",
      "  File \"/Users/tom/.pyenv/versions/3.5.1/lib/python3.5/multiprocessing/process.py\", line 254, in _bootstrap\n",
      "    self.run()\n",
      "  File \"/Users/tom/.pyenv/versions/3.5.1/lib/python3.5/multiprocessing/process.py\", line 254, in _bootstrap\n",
      "    self.run()\n",
      "  File \"/Users/tom/.pyenv/versions/3.5.1/lib/python3.5/multiprocessing/process.py\", line 254, in _bootstrap\n",
      "    self.run()\n",
      "  File \"/Users/tom/.pyenv/versions/3.5.1/lib/python3.5/multiprocessing/process.py\", line 254, in _bootstrap\n",
      "    self.run()\n",
      "  File \"/Users/tom/.pyenv/versions/3.5.1/lib/python3.5/multiprocessing/process.py\", line 254, in _bootstrap\n",
      "    self.run()\n",
      "  File \"/Users/tom/.pyenv/versions/3.5.1/lib/python3.5/multiprocessing/process.py\", line 254, in _bootstrap\n",
      "    self.run()\n",
      "  File \"/Users/tom/.pyenv/versions/3.5.1/lib/python3.5/multiprocessing/process.py\", line 93, in run\n",
      "    self._target(*self._args, **self._kwargs)\n",
      "  File \"/Users/tom/.pyenv/versions/3.5.1/lib/python3.5/multiprocessing/process.py\", line 254, in _bootstrap\n",
      "    self.run()\n",
      "  File \"/Users/tom/.pyenv/versions/3.5.1/lib/python3.5/multiprocessing/process.py\", line 93, in run\n",
      "    self._target(*self._args, **self._kwargs)\n",
      "  File \"/Users/tom/.pyenv/versions/3.5.1/lib/python3.5/multiprocessing/process.py\", line 93, in run\n",
      "    self._target(*self._args, **self._kwargs)\n",
      "  File \"/Users/tom/.pyenv/versions/3.5.1/lib/python3.5/multiprocessing/process.py\", line 93, in run\n",
      "    self._target(*self._args, **self._kwargs)\n",
      "  File \"/Users/tom/.pyenv/versions/3.5.1/lib/python3.5/multiprocessing/process.py\", line 93, in run\n",
      "    self._target(*self._args, **self._kwargs)\n",
      "  File \"/Users/tom/.pyenv/versions/3.5.1/lib/python3.5/multiprocessing/process.py\", line 93, in run\n",
      "    self._target(*self._args, **self._kwargs)\n",
      "  File \"/Users/tom/.pyenv/versions/3.5.1/lib/python3.5/multiprocessing/process.py\", line 93, in run\n",
      "    self._target(*self._args, **self._kwargs)\n",
      "  File \"/Users/tom/.pyenv/versions/3.5.1/lib/python3.5/multiprocessing/process.py\", line 93, in run\n",
      "    self._target(*self._args, **self._kwargs)\n",
      "  File \"/Users/tom/.pyenv/versions/3.5.1/lib/python3.5/multiprocessing/process.py\", line 93, in run\n",
      "    self._target(*self._args, **self._kwargs)\n",
      "  File \"/Users/tom/.pyenv/versions/3.5.1/lib/python3.5/multiprocessing/process.py\", line 93, in run\n",
      "    self._target(*self._args, **self._kwargs)\n",
      "  File \"/Users/tom/.pyenv/versions/3.5.1/lib/python3.5/multiprocessing/process.py\", line 93, in run\n",
      "    self._target(*self._args, **self._kwargs)\n",
      "  File \"/Users/tom/.pyenv/versions/3.5.1/lib/python3.5/multiprocessing/pool.py\", line 108, in worker\n",
      "    task = get()\n",
      "  File \"/Users/tom/.pyenv/versions/3.5.1/lib/python3.5/multiprocessing/pool.py\", line 108, in worker\n",
      "    task = get()\n",
      "  File \"/Users/tom/.pyenv/versions/3.5.1/lib/python3.5/multiprocessing/pool.py\", line 108, in worker\n",
      "    task = get()\n",
      "  File \"/Users/tom/.pyenv/versions/3.5.1/lib/python3.5/multiprocessing/process.py\", line 93, in run\n",
      "    self._target(*self._args, **self._kwargs)\n",
      "  File \"/Users/tom/.pyenv/versions/3.5.1/lib/python3.5/multiprocessing/pool.py\", line 108, in worker\n",
      "    task = get()\n",
      "  File \"/Users/tom/.pyenv/versions/3.5.1/lib/python3.5/multiprocessing/pool.py\", line 108, in worker\n",
      "    task = get()\n",
      "  File \"/Users/tom/.pyenv/versions/3.5.1/lib/python3.5/multiprocessing/pool.py\", line 108, in worker\n",
      "    task = get()\n",
      "  File \"/Users/tom/.pyenv/versions/3.5.1/lib/python3.5/multiprocessing/pool.py\", line 108, in worker\n",
      "    task = get()\n",
      "  File \"/Users/tom/.pyenv/versions/3.5.1/lib/python3.5/multiprocessing/pool.py\", line 108, in worker\n",
      "    task = get()\n",
      "  File \"/Users/tom/.pyenv/versions/3.5.1/lib/python3.5/multiprocessing/pool.py\", line 108, in worker\n",
      "    task = get()\n",
      "  File \"/Users/tom/.pyenv/versions/3.5.1/lib/python3.5/multiprocessing/pool.py\", line 108, in worker\n",
      "    task = get()\n",
      "  File \"/Users/tom/.pyenv/versions/3.5.1/lib/python3.5/multiprocessing/queues.py\", line 342, in get\n",
      "    with self._rlock:\n",
      "  File \"/Users/tom/.pyenv/versions/3.5.1/lib/python3.5/multiprocessing/pool.py\", line 108, in worker\n",
      "    task = get()\n",
      "  File \"/Users/tom/.pyenv/versions/3.5.1/lib/python3.5/multiprocessing/queues.py\", line 342, in get\n",
      "    with self._rlock:\n",
      "  File \"/Users/tom/.pyenv/versions/3.5.1/lib/python3.5/multiprocessing/pool.py\", line 108, in worker\n",
      "    task = get()\n",
      "  File \"/Users/tom/.pyenv/versions/3.5.1/lib/python3.5/multiprocessing/queues.py\", line 342, in get\n",
      "    with self._rlock:\n",
      "  File \"/Users/tom/.pyenv/versions/3.5.1/lib/python3.5/multiprocessing/queues.py\", line 342, in get\n",
      "    with self._rlock:\n",
      "  File \"/Users/tom/.pyenv/versions/3.5.1/lib/python3.5/multiprocessing/queues.py\", line 342, in get\n",
      "    with self._rlock:\n",
      "  File \"/Users/tom/.pyenv/versions/3.5.1/lib/python3.5/multiprocessing/queues.py\", line 342, in get\n",
      "    with self._rlock:\n",
      "  File \"/Users/tom/.pyenv/versions/3.5.1/lib/python3.5/multiprocessing/queues.py\", line 342, in get\n",
      "    with self._rlock:\n",
      "  File \"/Users/tom/.pyenv/versions/3.5.1/lib/python3.5/multiprocessing/queues.py\", line 343, in get\n",
      "    res = self._reader.recv_bytes()\n",
      "  File \"/Users/tom/.pyenv/versions/3.5.1/lib/python3.5/multiprocessing/queues.py\", line 342, in get\n",
      "    with self._rlock:\n",
      "  File \"/Users/tom/.pyenv/versions/3.5.1/lib/python3.5/multiprocessing/queues.py\", line 342, in get\n",
      "    with self._rlock:\n",
      "  File \"/Users/tom/.pyenv/versions/3.5.1/lib/python3.5/multiprocessing/synchronize.py\", line 96, in __enter__\n",
      "    return self._semlock.__enter__()\n",
      "  File \"/Users/tom/.pyenv/versions/3.5.1/lib/python3.5/multiprocessing/queues.py\", line 342, in get\n",
      "    with self._rlock:\n",
      "  File \"/Users/tom/.pyenv/versions/3.5.1/lib/python3.5/multiprocessing/queues.py\", line 342, in get\n",
      "    with self._rlock:\n",
      "  File \"/Users/tom/.pyenv/versions/3.5.1/lib/python3.5/multiprocessing/synchronize.py\", line 96, in __enter__\n",
      "    return self._semlock.__enter__()\n",
      "  File \"/Users/tom/.pyenv/versions/3.5.1/lib/python3.5/multiprocessing/synchronize.py\", line 96, in __enter__\n",
      "    return self._semlock.__enter__()\n",
      "  File \"/Users/tom/.pyenv/versions/3.5.1/lib/python3.5/multiprocessing/synchronize.py\", line 96, in __enter__\n",
      "    return self._semlock.__enter__()\n",
      "  File \"/Users/tom/.pyenv/versions/3.5.1/lib/python3.5/multiprocessing/synchronize.py\", line 96, in __enter__\n",
      "    return self._semlock.__enter__()\n",
      "  File \"/Users/tom/.pyenv/versions/3.5.1/lib/python3.5/multiprocessing/synchronize.py\", line 96, in __enter__\n",
      "    return self._semlock.__enter__()\n",
      "  File \"/Users/tom/.pyenv/versions/3.5.1/lib/python3.5/multiprocessing/synchronize.py\", line 96, in __enter__\n",
      "    return self._semlock.__enter__()\n",
      "  File \"/Users/tom/.pyenv/versions/3.5.1/lib/python3.5/multiprocessing/connection.py\", line 216, in recv_bytes\n",
      "    buf = self._recv_bytes(maxlength)\n"
     ]
    },
    {
     "name": "stderr",
     "output_type": "stream",
     "text": [
      "  File \"/Users/tom/.pyenv/versions/3.5.1/lib/python3.5/multiprocessing/synchronize.py\", line 96, in __enter__\n",
      "    return self._semlock.__enter__()\n",
      "KeyboardInterrupt\n",
      "  File \"/Users/tom/.pyenv/versions/3.5.1/lib/python3.5/multiprocessing/synchronize.py\", line 96, in __enter__\n",
      "    return self._semlock.__enter__()\n",
      "  File \"/Users/tom/.pyenv/versions/3.5.1/lib/python3.5/multiprocessing/synchronize.py\", line 96, in __enter__\n",
      "    return self._semlock.__enter__()\n",
      "  File \"/Users/tom/.pyenv/versions/3.5.1/lib/python3.5/multiprocessing/synchronize.py\", line 96, in __enter__\n",
      "    return self._semlock.__enter__()\n",
      "KeyboardInterrupt\n",
      "KeyboardInterrupt\n",
      "KeyboardInterrupt\n",
      "KeyboardInterrupt\n",
      "KeyboardInterrupt\n",
      "KeyboardInterrupt\n",
      "  File \"/Users/tom/.pyenv/versions/3.5.1/lib/python3.5/multiprocessing/connection.py\", line 407, in _recv_bytes\n",
      "    buf = self._recv(4)\n",
      "KeyboardInterrupt\n",
      "KeyboardInterrupt\n",
      "KeyboardInterrupt\n",
      "KeyboardInterrupt\n",
      "  File \"/Users/tom/.pyenv/versions/3.5.1/lib/python3.5/multiprocessing/connection.py\", line 379, in _recv\n",
      "    chunk = read(handle, remaining)\n",
      "KeyboardInterrupt\n"
     ]
    }
   ],
   "source": [
    "word_reviews = feature_extraction.parse_reviews(data_sample.values)"
   ]
  },
  {
   "cell_type": "markdown",
   "metadata": {},
   "source": [
    "##### 2.3 Identify Wordgrams\n",
    "A bigram and trigram model is applied to group words that commonly occur together. This maintains some relationship between neighbouring words, otherwise lost with our bag of words model. Examples include:\n",
    "- soothes soul -> soothes_soul\n",
    "- highly recomended -> highly_recommended\n",
    "- tai chi -> tai_chi"
   ]
  },
  {
   "cell_type": "code",
   "execution_count": 19,
   "metadata": {},
   "outputs": [
    {
     "name": "stderr",
     "output_type": "stream",
     "text": [
      "[2019-03-17 13:51:15,675] INFO [__main__.apply_gram_models:82] Training bigram and trigram models\n"
     ]
    }
   ],
   "source": [
    "word_grams = feature_extraction.apply_gram_models(word_reviews)"
   ]
  },
  {
   "cell_type": "markdown",
   "metadata": {},
   "source": [
    "##### 2.4 Get Lemmas\n",
    "We transform all words to their lemmas were neccesary, lemmatization converts a word to its root word, for example:\n",
    "- beats -> beat\n",
    "- wobbling –> wobble"
   ]
  },
  {
   "cell_type": "code",
   "execution_count": 20,
   "metadata": {},
   "outputs": [
    {
     "name": "stderr",
     "output_type": "stream",
     "text": [
      "Process ForkPoolWorker-23:\n",
      "Process ForkPoolWorker-18:\n",
      "Process ForkPoolWorker-16:\n",
      "Process ForkPoolWorker-19:\n",
      "Process ForkPoolWorker-15:\n",
      "Process ForkPoolWorker-22:\n",
      "Process ForkPoolWorker-24:\n",
      "Process ForkPoolWorker-17:\n",
      "Process ForkPoolWorker-20:\n",
      "Process ForkPoolWorker-13:\n",
      "Process ForkPoolWorker-21:\n",
      "Process ForkPoolWorker-14:\n",
      "Traceback (most recent call last):\n",
      "Traceback (most recent call last):\n",
      "Traceback (most recent call last):\n",
      "Traceback (most recent call last):\n",
      "Traceback (most recent call last):\n",
      "Traceback (most recent call last):\n",
      "Traceback (most recent call last):\n",
      "Traceback (most recent call last):\n",
      "  File \"/Users/tom/.pyenv/versions/3.5.1/lib/python3.5/multiprocessing/process.py\", line 254, in _bootstrap\n",
      "    self.run()\n",
      "Traceback (most recent call last):\n",
      "  File \"/Users/tom/.pyenv/versions/3.5.1/lib/python3.5/multiprocessing/process.py\", line 254, in _bootstrap\n",
      "    self.run()\n",
      "  File \"/Users/tom/.pyenv/versions/3.5.1/lib/python3.5/multiprocessing/process.py\", line 254, in _bootstrap\n",
      "    self.run()\n",
      "Traceback (most recent call last):\n",
      "Traceback (most recent call last):\n",
      "Traceback (most recent call last):\n",
      "  File \"/Users/tom/.pyenv/versions/3.5.1/lib/python3.5/multiprocessing/process.py\", line 254, in _bootstrap\n",
      "    self.run()\n",
      "  File \"/Users/tom/.pyenv/versions/3.5.1/lib/python3.5/multiprocessing/process.py\", line 254, in _bootstrap\n",
      "    self.run()\n",
      "  File \"/Users/tom/.pyenv/versions/3.5.1/lib/python3.5/multiprocessing/process.py\", line 254, in _bootstrap\n",
      "    self.run()\n",
      "  File \"/Users/tom/.pyenv/versions/3.5.1/lib/python3.5/multiprocessing/process.py\", line 254, in _bootstrap\n",
      "    self.run()\n",
      "  File \"/Users/tom/.pyenv/versions/3.5.1/lib/python3.5/multiprocessing/process.py\", line 254, in _bootstrap\n",
      "    self.run()\n",
      "  File \"/Users/tom/.pyenv/versions/3.5.1/lib/python3.5/multiprocessing/process.py\", line 93, in run\n",
      "    self._target(*self._args, **self._kwargs)\n",
      "  File \"/Users/tom/.pyenv/versions/3.5.1/lib/python3.5/multiprocessing/process.py\", line 93, in run\n",
      "    self._target(*self._args, **self._kwargs)\n",
      "  File \"/Users/tom/.pyenv/versions/3.5.1/lib/python3.5/multiprocessing/process.py\", line 93, in run\n",
      "    self._target(*self._args, **self._kwargs)\n",
      "  File \"/Users/tom/.pyenv/versions/3.5.1/lib/python3.5/multiprocessing/process.py\", line 254, in _bootstrap\n",
      "    self.run()\n",
      "  File \"/Users/tom/.pyenv/versions/3.5.1/lib/python3.5/multiprocessing/process.py\", line 254, in _bootstrap\n",
      "    self.run()\n",
      "  File \"/Users/tom/.pyenv/versions/3.5.1/lib/python3.5/multiprocessing/process.py\", line 254, in _bootstrap\n",
      "    self.run()\n",
      "  File \"/Users/tom/.pyenv/versions/3.5.1/lib/python3.5/multiprocessing/process.py\", line 254, in _bootstrap\n",
      "    self.run()\n",
      "  File \"/Users/tom/.pyenv/versions/3.5.1/lib/python3.5/multiprocessing/process.py\", line 93, in run\n",
      "    self._target(*self._args, **self._kwargs)\n",
      "  File \"/Users/tom/.pyenv/versions/3.5.1/lib/python3.5/multiprocessing/process.py\", line 93, in run\n",
      "    self._target(*self._args, **self._kwargs)\n",
      "  File \"/Users/tom/.pyenv/versions/3.5.1/lib/python3.5/multiprocessing/process.py\", line 93, in run\n",
      "    self._target(*self._args, **self._kwargs)\n",
      "  File \"/Users/tom/.pyenv/versions/3.5.1/lib/python3.5/multiprocessing/process.py\", line 93, in run\n",
      "    self._target(*self._args, **self._kwargs)\n",
      "  File \"/Users/tom/.pyenv/versions/3.5.1/lib/python3.5/multiprocessing/pool.py\", line 108, in worker\n",
      "    task = get()\n",
      "  File \"/Users/tom/.pyenv/versions/3.5.1/lib/python3.5/multiprocessing/process.py\", line 93, in run\n",
      "    self._target(*self._args, **self._kwargs)\n",
      "  File \"/Users/tom/.pyenv/versions/3.5.1/lib/python3.5/multiprocessing/pool.py\", line 108, in worker\n",
      "    task = get()\n",
      "  File \"/Users/tom/.pyenv/versions/3.5.1/lib/python3.5/multiprocessing/process.py\", line 93, in run\n",
      "    self._target(*self._args, **self._kwargs)\n",
      "  File \"/Users/tom/.pyenv/versions/3.5.1/lib/python3.5/multiprocessing/pool.py\", line 108, in worker\n",
      "    task = get()\n",
      "  File \"/Users/tom/.pyenv/versions/3.5.1/lib/python3.5/multiprocessing/process.py\", line 93, in run\n",
      "    self._target(*self._args, **self._kwargs)\n",
      "  File \"/Users/tom/.pyenv/versions/3.5.1/lib/python3.5/multiprocessing/process.py\", line 93, in run\n",
      "    self._target(*self._args, **self._kwargs)\n",
      "  File \"/Users/tom/.pyenv/versions/3.5.1/lib/python3.5/multiprocessing/pool.py\", line 108, in worker\n",
      "    task = get()\n",
      "  File \"/Users/tom/.pyenv/versions/3.5.1/lib/python3.5/multiprocessing/process.py\", line 93, in run\n",
      "    self._target(*self._args, **self._kwargs)\n",
      "  File \"/Users/tom/.pyenv/versions/3.5.1/lib/python3.5/multiprocessing/pool.py\", line 108, in worker\n",
      "    task = get()\n",
      "  File \"/Users/tom/.pyenv/versions/3.5.1/lib/python3.5/multiprocessing/pool.py\", line 108, in worker\n",
      "    task = get()\n",
      "  File \"/Users/tom/.pyenv/versions/3.5.1/lib/python3.5/multiprocessing/pool.py\", line 108, in worker\n",
      "    task = get()\n",
      "  File \"/Users/tom/.pyenv/versions/3.5.1/lib/python3.5/multiprocessing/pool.py\", line 108, in worker\n",
      "    task = get()\n",
      "  File \"/Users/tom/.pyenv/versions/3.5.1/lib/python3.5/multiprocessing/queues.py\", line 342, in get\n",
      "    with self._rlock:\n",
      "  File \"/Users/tom/.pyenv/versions/3.5.1/lib/python3.5/multiprocessing/queues.py\", line 342, in get\n",
      "    with self._rlock:\n",
      "  File \"/Users/tom/.pyenv/versions/3.5.1/lib/python3.5/multiprocessing/queues.py\", line 342, in get\n",
      "    with self._rlock:\n",
      "  File \"/Users/tom/.pyenv/versions/3.5.1/lib/python3.5/multiprocessing/queues.py\", line 342, in get\n",
      "    with self._rlock:\n",
      "  File \"/Users/tom/.pyenv/versions/3.5.1/lib/python3.5/multiprocessing/pool.py\", line 108, in worker\n",
      "    task = get()\n",
      "  File \"/Users/tom/.pyenv/versions/3.5.1/lib/python3.5/multiprocessing/pool.py\", line 108, in worker\n",
      "    task = get()\n",
      "  File \"/Users/tom/.pyenv/versions/3.5.1/lib/python3.5/multiprocessing/queues.py\", line 343, in get\n",
      "    res = self._reader.recv_bytes()\n",
      "  File \"/Users/tom/.pyenv/versions/3.5.1/lib/python3.5/multiprocessing/queues.py\", line 342, in get\n",
      "    with self._rlock:\n",
      "  File \"/Users/tom/.pyenv/versions/3.5.1/lib/python3.5/multiprocessing/pool.py\", line 108, in worker\n",
      "    task = get()\n",
      "  File \"/Users/tom/.pyenv/versions/3.5.1/lib/python3.5/multiprocessing/pool.py\", line 108, in worker\n",
      "    task = get()\n",
      "  File \"/Users/tom/.pyenv/versions/3.5.1/lib/python3.5/multiprocessing/synchronize.py\", line 96, in __enter__\n",
      "    return self._semlock.__enter__()\n",
      "  File \"/Users/tom/.pyenv/versions/3.5.1/lib/python3.5/multiprocessing/synchronize.py\", line 96, in __enter__\n",
      "    return self._semlock.__enter__()\n",
      "  File \"/Users/tom/.pyenv/versions/3.5.1/lib/python3.5/multiprocessing/queues.py\", line 342, in get\n",
      "    with self._rlock:\n",
      "  File \"/Users/tom/.pyenv/versions/3.5.1/lib/python3.5/multiprocessing/queues.py\", line 342, in get\n",
      "    with self._rlock:\n",
      "  File \"/Users/tom/.pyenv/versions/3.5.1/lib/python3.5/multiprocessing/queues.py\", line 342, in get\n",
      "    with self._rlock:\n",
      "  File \"/Users/tom/.pyenv/versions/3.5.1/lib/python3.5/multiprocessing/queues.py\", line 342, in get\n",
      "    with self._rlock:\n",
      "  File \"/Users/tom/.pyenv/versions/3.5.1/lib/python3.5/multiprocessing/synchronize.py\", line 96, in __enter__\n",
      "    return self._semlock.__enter__()\n",
      "  File \"/Users/tom/.pyenv/versions/3.5.1/lib/python3.5/multiprocessing/queues.py\", line 342, in get\n",
      "    with self._rlock:\n",
      "  File \"/Users/tom/.pyenv/versions/3.5.1/lib/python3.5/multiprocessing/queues.py\", line 342, in get\n",
      "    with self._rlock:\n",
      "  File \"/Users/tom/.pyenv/versions/3.5.1/lib/python3.5/multiprocessing/synchronize.py\", line 96, in __enter__\n",
      "    return self._semlock.__enter__()\n",
      "  File \"/Users/tom/.pyenv/versions/3.5.1/lib/python3.5/multiprocessing/synchronize.py\", line 96, in __enter__\n",
      "    return self._semlock.__enter__()\n",
      "  File \"/Users/tom/.pyenv/versions/3.5.1/lib/python3.5/multiprocessing/synchronize.py\", line 96, in __enter__\n",
      "    return self._semlock.__enter__()\n",
      "KeyboardInterrupt\n",
      "  File \"/Users/tom/.pyenv/versions/3.5.1/lib/python3.5/multiprocessing/synchronize.py\", line 96, in __enter__\n",
      "    return self._semlock.__enter__()\n",
      "  File \"/Users/tom/.pyenv/versions/3.5.1/lib/python3.5/multiprocessing/synchronize.py\", line 96, in __enter__\n",
      "    return self._semlock.__enter__()\n",
      "KeyboardInterrupt\n",
      "KeyboardInterrupt\n",
      "  File \"/Users/tom/.pyenv/versions/3.5.1/lib/python3.5/multiprocessing/synchronize.py\", line 96, in __enter__\n",
      "    return self._semlock.__enter__()\n"
     ]
    },
    {
     "name": "stderr",
     "output_type": "stream",
     "text": [
      "KeyboardInterrupt\n",
      "KeyboardInterrupt\n",
      "  File \"/Users/tom/.pyenv/versions/3.5.1/lib/python3.5/multiprocessing/synchronize.py\", line 96, in __enter__\n",
      "    return self._semlock.__enter__()\n",
      "  File \"/Users/tom/.pyenv/versions/3.5.1/lib/python3.5/multiprocessing/connection.py\", line 216, in recv_bytes\n",
      "    buf = self._recv_bytes(maxlength)\n",
      "  File \"/Users/tom/.pyenv/versions/3.5.1/lib/python3.5/multiprocessing/synchronize.py\", line 96, in __enter__\n",
      "    return self._semlock.__enter__()\n",
      "KeyboardInterrupt\n",
      "KeyboardInterrupt\n",
      "KeyboardInterrupt\n",
      "KeyboardInterrupt\n",
      "  File \"/Users/tom/.pyenv/versions/3.5.1/lib/python3.5/multiprocessing/connection.py\", line 407, in _recv_bytes\n",
      "    buf = self._recv(4)\n",
      "KeyboardInterrupt\n",
      "KeyboardInterrupt\n",
      "  File \"/Users/tom/.pyenv/versions/3.5.1/lib/python3.5/multiprocessing/connection.py\", line 379, in _recv\n",
      "    chunk = read(handle, remaining)\n",
      "KeyboardInterrupt\n"
     ]
    }
   ],
   "source": [
    "word_lemmas = feature_extraction.lemmatization(word_grams)"
   ]
  },
  {
   "cell_type": "markdown",
   "metadata": {},
   "source": [
    "##### 2.5 Get Training Corpus\n",
    "Gensim LDA expects a Corpus object and a dictionary, which basically indicizes all words and reviews so the model deals with numbers only."
   ]
  },
  {
   "cell_type": "code",
   "execution_count": 21,
   "metadata": {},
   "outputs": [],
   "source": [
    "amazon_ids, gen_dict, corpus = feature_extraction.get_dict_and_corpus(word_lemmas)"
   ]
  },
  {
   "cell_type": "code",
   "execution_count": 22,
   "metadata": {},
   "outputs": [
    {
     "data": {
      "text/plain": [
       "[[('really', 1), ('hear', 1), ('care', 1), ('arch', 1)]]"
      ]
     },
     "execution_count": 22,
     "metadata": {},
     "output_type": "execute_result"
    }
   ],
   "source": [
    "[[(gen_dict[i], freq) for i, freq in cp][:7] for cp in corpus[29:30]]"
   ]
  },
  {
   "cell_type": "markdown",
   "metadata": {},
   "source": [
    "### 3. Modelling"
   ]
  },
  {
   "cell_type": "markdown",
   "metadata": {},
   "source": [
    "Save what you have from the previous section:"
   ]
  },
  {
   "cell_type": "code",
   "execution_count": null,
   "metadata": {},
   "outputs": [],
   "source": [
    "persistence.pickle_object('PATH HERE', corpus)\n",
    "persistence.pickle_object('PATH HERE', amazon_ids)\n",
    "persistence.gen_dict.save('PATH HERE')"
   ]
  },
  {
   "cell_type": "markdown",
   "metadata": {},
   "source": [
    "##### 3.1 LDA Topic Modelling"
   ]
  },
  {
   "cell_type": "markdown",
   "metadata": {},
   "source": [
    "LDA for abstract latent representation of documents. You have three options (do not run all):\n",
    "- 3.1.1 Train single LDA model\n",
    "- 3.1.2 Train multiple on various values of k, storing results in experiment dataframe\n",
    "- 3.1.3 Load existing model"
   ]
  },
  {
   "cell_type": "code",
   "execution_count": 723,
   "metadata": {},
   "outputs": [],
   "source": [
    "from sklearn.model_selection import train_test_split\n",
    "from uuid import uuid4\n",
    "import matplotlib.pyplot as plt1\n",
    "import numpy as np"
   ]
  },
  {
   "cell_type": "code",
   "execution_count": 25,
   "metadata": {},
   "outputs": [],
   "source": [
    "train, test = train_test_split(corpus, test_size=0.2, random_state=random_state)"
   ]
  },
  {
   "cell_type": "markdown",
   "metadata": {},
   "source": [
    "##### 3.1.1 Train one model"
   ]
  },
  {
   "cell_type": "code",
   "execution_count": 27,
   "metadata": {},
   "outputs": [
    {
     "name": "stdout",
     "output_type": "stream",
     "text": [
      "7ab327b0-6059-49e5-817a-32f727018401\n"
     ]
    }
   ],
   "source": [
    "lda_model = gensim.models.ldamulticore.LdaMulticore(\n",
    "                           corpus=corpus,\n",
    "                           id2word=gen_dict,\n",
    "                           num_topics=150,\n",
    "                           random_state=random_state,\n",
    "                           workers=5,\n",
    "                           passes=20,\n",
    "                           iterations=1500,\n",
    "                           per_word_topics=True\n",
    "                    )\n",
    "\n",
    "run_id = str(uuid4())\n",
    "print(run_id)\n",
    "lda_model.save('../models/{}'.format(run_id))"
   ]
  },
  {
   "cell_type": "markdown",
   "metadata": {},
   "source": [
    "##### 3.1.2 Train at multiple values of k here"
   ]
  },
  {
   "cell_type": "code",
   "execution_count": null,
   "metadata": {},
   "outputs": [],
   "source": [
    "experiment_frame = pd.DataFrame({\n",
    "    'run_id':[],\n",
    "    'k':[],\n",
    "    'log_perplexity':[]\n",
    "})"
   ]
  },
  {
   "cell_type": "code",
   "execution_count": 92,
   "metadata": {},
   "outputs": [
    {
     "name": "stdout",
     "output_type": "stream",
     "text": [
      "aeb194e9-7e7d-4747-9ebb-e3d6f868f3ad, 10, -7.899313387696005\n",
      "c2d23298-47e5-4241-9cb3-4086622f2b55, 30, -8.222576361396289\n",
      "1838233b-e3d7-4961-bde1-7f36264e2170, 50, -8.452632219538383\n",
      "e6709e29-3402-4a27-b38d-ee0821a1fbde, 75, -8.761166800280128\n",
      "2104ffc6-19e0-48c7-aebb-acb470fea8ca, 100, -9.00465955207911\n",
      "ca71f1fd-82ff-4869-9294-db93a67af313, 150, -9.444162602416672\n",
      "9ba181c0-7500-4abc-9c6d-0155fa2e86d7, 200, -9.977104155499253\n",
      "c0b7327a-9f96-43e3-a824-dba77e54179b, 250, -10.644037659425582\n"
     ]
    }
   ],
   "source": [
    "all_k = [10, 30, 50, 75, 100, 150, 200, 250]\n",
    "\n",
    "for k in all_k:\n",
    "    lda_model = gensim.models.ldamulticore.LdaMulticore(\n",
    "                               corpus=train,\n",
    "                               id2word=gen_dict,\n",
    "                               num_topics=k, \n",
    "                               random_state=random_state,\n",
    "                               workers=5,\n",
    "                               passes=20,\n",
    "                               iterations=1000,\n",
    "                               per_word_topics=True\n",
    "                        )\n",
    "    \n",
    "    run_id = str(uuid4())\n",
    "    \n",
    "    log_perplexity = ldaA_model.log_perplexity(test)\n",
    "    \n",
    "    print('{}, {}, {}'.format(run_id, k, log_perplexity))\n",
    "    \n",
    "    experiment_frame.append({'run_id':run_id, 'k':k, 'log_perplexity':log_perplexity}, ignore_index=True)\n",
    "    \n",
    "    lda_model.save('../models/{}'.format(run_id))\n",
    "    \n",
    "experiment_frame.to_csv('results.csv')"
   ]
  },
  {
   "cell_type": "markdown",
   "metadata": {},
   "source": [
    "Examine log perplexity for an obvious choice of k"
   ]
  },
  {
   "cell_type": "code",
   "execution_count": 121,
   "metadata": {},
   "outputs": [
    {
     "data": {
      "text/plain": [
       "Text(0.5,1,'Experiment Results')"
      ]
     },
     "execution_count": 121,
     "metadata": {},
     "output_type": "execute_result"
    },
    {
     "data": {
      "image/png": "[encoded data removed]",
      "text/plain": [
       "<Figure size 504x360 with 1 Axes>"
      ]
     },
     "metadata": {
      "needs_background": "light"
     },
     "output_type": "display_data"
    }
   ],
   "source": [
    "plt.figure(figsize=(7,5))\n",
    "plt.plot(experiment_frame['k'], experiment_frame['log_perplexity'])\n",
    "plt.xlabel('Number of Topics')\n",
    "plt.ylabel('Log Perplexity')\n",
    "plt.title('Experiment Results')"
   ]
  },
  {
   "cell_type": "markdown",
   "metadata": {},
   "source": [
    "##### 3.1.3 Load here"
   ]
  },
  {
   "cell_type": "code",
   "execution_count": null,
   "metadata": {},
   "outputs": [],
   "source": [
    "lda_model, gen_dict, corpus, amazon_ids = persistence.load_folder('../production_model')"
   ]
  },
  {
   "cell_type": "markdown",
   "metadata": {},
   "source": [
    "With a model from one of the above methods you can plot the topics here."
   ]
  },
  {
   "cell_type": "code",
   "execution_count": 77,
   "metadata": {},
   "outputs": [],
   "source": [
    "i = 0"
   ]
  },
  {
   "cell_type": "markdown",
   "metadata": {},
   "source": [
    "Repeatedly run this cell to iterate through topics"
   ]
  },
  {
   "cell_type": "code",
   "execution_count": 89,
   "metadata": {},
   "outputs": [
    {
     "data": {
      "image/png": "[encoded data removed]",
      "text/plain": [
       "<Figure size 640x480 with 1 Axes>"
      ]
     },
     "metadata": {},
     "output_type": "display_data"
    }
   ],
   "source": [
    "utils.plot_topics(lda_model, i)\n",
    "i += 1"
   ]
  },
  {
   "cell_type": "markdown",
   "metadata": {},
   "source": [
    "Predict the topic distribution of our documents"
   ]
  },
  {
   "cell_type": "code",
   "execution_count": 12,
   "metadata": {},
   "outputs": [
    {
     "name": "stderr",
     "output_type": "stream",
     "text": [
      "IOPub data rate exceeded.\n",
      "The notebook server will temporarily stop sending output\n",
      "to the client in order to avoid crashing it.\n",
      "To change this limit, set the config variable\n",
      "`--NotebookApp.iopub_data_rate_limit`.\n",
      "\n",
      "Current values:\n",
      "NotebookApp.iopub_data_rate_limit=1000000.0 (bytes/sec)\n",
      "NotebookApp.rate_limit_window=3.0 (secs)\n",
      "\n"
     ]
    }
   ],
   "source": [
    "prediction = model.predict_topic_distribution(lda_model, corpus)"
   ]
  },
  {
   "cell_type": "markdown",
   "metadata": {},
   "source": [
    "### 6. Recommendation"
   ]
  },
  {
   "cell_type": "code",
   "execution_count": 1,
   "metadata": {},
   "outputs": [],
   "source": [
    "from sklearn.metrics.pairwise import pairwise_kernels"
   ]
  },
  {
   "cell_type": "markdown",
   "metadata": {},
   "source": [
    "LDA model output a probability distribution across features for each album. We use cosine similarity between these distributions to compute similarity."
   ]
  },
  {
   "cell_type": "code",
   "execution_count": 29,
   "metadata": {},
   "outputs": [
    {
     "data": {
      "text/plain": [
       "(64531, 64531)"
      ]
     },
     "execution_count": 29,
     "metadata": {},
     "output_type": "execute_result"
    }
   ],
   "source": [
    "LDA_sim = pairwise_kernels(prediction, metric='cosine', n_jobs=5)\n",
    "LDA_sim.shape"
   ]
  },
  {
   "cell_type": "markdown",
   "metadata": {},
   "source": [
    "Let's try with an example "
   ]
  },
  {
   "cell_type": "code",
   "execution_count": 865,
   "metadata": {},
   "outputs": [
    {
     "name": "stdout",
     "output_type": "stream",
     "text": [
      "Top Recommendations for John Coltrane - 1960 Dusseldorf [Jazz]:\n",
      "\n",
      "Stage Stars Records - Fiddler on the Roof  [Pop]\n",
      "Cabin in the Sky - Cabin in the Sky  [Pop]\n",
      "Various Artists - You Can't Put Ketchup on the Moon  [Jazz]\n",
      "Ryan Ramirez - Regions [New Age]\n",
      "Sian Phillips - A Little Night Music  [Pop]\n"
     ]
    }
   ],
   "source": [
    "artist = 'coltrane' # substring of artist you wish to get recommendations for\n",
    "model.get_rec_from_substring(artist, metadata, LDA_sim, amazon_ids)"
   ]
  },
  {
   "cell_type": "markdown",
   "metadata": {},
   "source": [
    "### 7. Recommender Evaluation"
   ]
  },
  {
   "cell_type": "markdown",
   "metadata": {},
   "source": [
    "We evaluate our recommender by AB testing it with a chance model. For a given track, two recommendations are presented, one is from our recommender, one is chosen at random, the viewer does not know which is which. The viewer must chose which is better, a point is added to each recommenders score everytime it wins an iteration."
   ]
  },
  {
   "cell_type": "code",
   "execution_count": 853,
   "metadata": {},
   "outputs": [],
   "source": [
    "chance = 0\n",
    "our_model = 0"
   ]
  },
  {
   "cell_type": "code",
   "execution_count": 855,
   "metadata": {},
   "outputs": [
    {
     "name": "stdout",
     "output_type": "stream",
     "text": [
      "Recommendations for The Cold - Three Chord City [Metal]:\n",
      "\n",
      "Recommender A:\n",
      "Camilo Sesto - Camilo Sestos-Algo Mas [Latin Music]\n",
      "Roy Milton - Miltone Records [R&B]\n",
      "Valencia Vas - Reflections [Latin Music]\n",
      "Third Ear Band - Alchemy [Rock]\n",
      "Love Seed Mama Jump - Summer Of Love [Alternative Rock]\n",
      "\n",
      "\n",
      "Recommender B:\n",
      "Robbin Thompson - Two B's Please [Rock]\n",
      "Larry Stewart - Heart Like A Hurricane [Country]\n",
      "Kekal - Acidity [Metal]\n",
      "Eduardo Cruz - Cosas Que Contar [Latin Music]\n",
      "Pagans - Everybody Hates You [Alternative Rock]\n",
      "\n",
      "\n",
      "['Which recommender is best, a or b? (or p to pass)']p\n"
     ]
    }
   ],
   "source": [
    "chance, our_model = evaluation.chance_deathmatch(metadata, LDA_sim, amazon_ids, chance, our_model)"
   ]
  },
  {
   "cell_type": "code",
   "execution_count": 845,
   "metadata": {},
   "outputs": [
    {
     "data": {
      "text/plain": [
       "0.9999999999999826"
      ]
     },
     "execution_count": 845,
     "metadata": {},
     "output_type": "execute_result"
    }
   ],
   "source": [
    "evaluation.bayesian_test(25, 78, 78, 25)"
   ]
  },
  {
   "cell_type": "code",
   "execution_count": 6,
   "metadata": {},
   "outputs": [],
   "source": [
    "import numpy as np"
   ]
  },
  {
   "cell_type": "code",
   "execution_count": 8,
   "metadata": {},
   "outputs": [
    {
     "data": {
      "text/plain": [
       "1.3425606637327305"
      ]
     },
     "execution_count": 8,
     "metadata": {},
     "output_type": "execute_result"
    }
   ],
   "source": [
    "np.std([5]*10 + [4]*10 + [3]*20 + [2]*20 + [1]*30)"
   ]
  },
  {
   "cell_type": "code",
   "execution_count": null,
   "metadata": {},
   "outputs": [],
   "source": [
    "2.2"
   ]
  }
 ],
 "metadata": {
  "kernelspec": {
   "display_name": "Python 3",
   "language": "python",
   "name": "python3"
  },
  "language_info": {
   "codemirror_mode": {
    "name": "ipython",
    "version": 3
   },
   "file_extension": ".py",
   "mimetype": "text/x-python",
   "name": "python",
   "nbconvert_exporter": "python",
   "pygments_lexer": "ipython3",
   "version": "3.5.1"
  }
 },
 "nbformat": 4,
 "nbformat_minor": 2
}
